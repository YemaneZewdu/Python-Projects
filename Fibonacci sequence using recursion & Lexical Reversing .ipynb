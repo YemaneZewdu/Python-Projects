{
 "cells": [
  {
   "cell_type": "code",
   "execution_count": 35,
   "metadata": {},
   "outputs": [
    {
     "name": "stdout",
     "output_type": "stream",
     "text": [
      "Enter your number 5\n",
      "The first 5 number of Fibonacci numbers are: \n",
      "0\n",
      "1\n",
      "1\n",
      "2\n",
      "3\n",
      "\n",
      "The  reverse lexical order of the generated Fibonacci numbers is: \n",
      "3\n",
      "2\n",
      "1\n",
      "1\n",
      "0\n"
     ]
    }
   ],
   "source": [
    "n=int(input (\"Enter your number \"))\n",
    "L = list()\n",
    "def fibSqn(n):\n",
    "    if (n==0):\n",
    "            return n\n",
    "               \n",
    "    elif (n==1):\n",
    "            return n\n",
    "         \n",
    "    return (fibSqn (n-1) + fibSqn (n-2) )\n",
    "       \n",
    "print (\"The first \" + str(n) + \" number of Fibonacci numbers are: \")    \n",
    "for i in range(n):\n",
    "    print(fibSqn(i))\n",
    "    L.append(fibSqn(i))      \n",
    "    \n",
    "  \n",
    "fibSqn(n)\n",
    "\n",
    "print (\"\\nThe  reverse lexical order of the generated Fibonacci numbers is: \") \n",
    "\n",
    "def lexicalReverse():\n",
    "  for i in range(0,len(L)//2):\n",
    "    temp = L[i]\n",
    "    L[i] = L[len(L)-1-i]\n",
    "    L[len(L)-1-i] = temp\n",
    "\n",
    "  for i in range (len(L)):\n",
    "    print (L[i])\n",
    "    \n",
    "lexicalReverse()    \n",
    "\n",
    "    \n",
    "    \n",
    "\n",
    "\n",
    "    "
   ]
  },
  {
   "cell_type": "code",
   "execution_count": null,
   "metadata": {},
   "outputs": [],
   "source": []
  },
  {
   "cell_type": "code",
   "execution_count": null,
   "metadata": {},
   "outputs": [],
   "source": []
  }
 ],
 "metadata": {
  "kernelspec": {
   "display_name": "Python 3",
   "language": "python",
   "name": "python3"
  },
  "language_info": {
   "codemirror_mode": {
    "name": "ipython",
    "version": 3
   },
   "file_extension": ".py",
   "mimetype": "text/x-python",
   "name": "python",
   "nbconvert_exporter": "python",
   "pygments_lexer": "ipython3",
   "version": "3.6.4"
  }
 },
 "nbformat": 4,
 "nbformat_minor": 2
}
