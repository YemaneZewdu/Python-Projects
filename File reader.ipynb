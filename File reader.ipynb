{
 "cells": [
  {
   "cell_type": "code",
   "execution_count": null,
   "metadata": {},
   "outputs": [],
   "source": [
    "name = input('Enter file name: ')\n",
    "fileHandler = open(name)\n",
    "\n",
    "counts = dict()\n",
    "for line in fileHandler:\n",
    "    words = line.split()\n",
    "    for word in words:\n",
    "        counts[word] = count.get(word,0)+1\n",
    "highCount = None\n",
    "bigWord = None\n",
    "\n",
    "for word,count in counts.items():\n",
    "    if highCount is None or count > highCount:\n",
    "        bigWord = word\n",
    "        highCount = count\n",
    "        \n",
    "print('The most repeated word is: ', bigWord, highCount)\n",
    "        "
   ]
  }
 ],
 "metadata": {
  "kernelspec": {
   "display_name": "Python 3",
   "language": "python",
   "name": "python3"
  },
  "language_info": {
   "codemirror_mode": {
    "name": "ipython",
    "version": 3
   },
   "file_extension": ".py",
   "mimetype": "text/x-python",
   "name": "python",
   "nbconvert_exporter": "python",
   "pygments_lexer": "ipython3",
   "version": "3.6.4"
  }
 },
 "nbformat": 4,
 "nbformat_minor": 2
}
