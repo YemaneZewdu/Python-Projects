{
 "cells": [
  {
   "cell_type": "code",
   "execution_count": 80,
   "metadata": {
    "scrolled": false
   },
   "outputs": [
    {
     "name": "stdout",
     "output_type": "stream",
     "text": [
      " Arlene\n",
      " Caroline\n"
     ]
    }
   ],
   "source": [
    "# Complete the latestStudent function below.\n",
    "def latestStudent(attendanceData):\n",
    "    date={}\n",
    "    numOfDays = {}\n",
    "    averageLateness = {}\n",
    "    names = {}\n",
    "    highestLateness = 0\n",
    "    studentName = {}\n",
    "    \n",
    "    for i in attendanceData:\n",
    "        names [i[1]] = []\n",
    "        if i[0] in numOfDays.keys():\n",
    "            numOfDays[i[0]][0] += int(i[3]) - int(i[2])\n",
    "            numOfDays[i[0]][1] += 1\n",
    "        else:\n",
    "            numOfDays[i[0]] = [int(i[3]) - int(i[2]),1]            \n",
    "    for i in numOfDays.keys():\n",
    "        averageLateness[i] = numOfDays[i][0] // numOfDays[i][1]\n",
    "       # print(numOfDays[i][0])\n",
    "   # print(numOfDays)\n",
    "   # print (averageLateness)\n",
    "        \n",
    "    for i in attendanceData:\n",
    "        names[i[1]].append(((int(i[3]) - int(i[2])) - averageLateness[i[0]])) \n",
    "        \n",
    "    index = 0;\n",
    "    for i in names:\n",
    "        if names[i][index] > highestLateness:\n",
    "            studentName[i] = names[i][index]\n",
    "            \n",
    "            index +=1\n",
    "        #if names[i][1] > highestLateness:\n",
    "         #   print(names[i][1])\n",
    "    for i in studentName.keys():\n",
    "        print(i)\n",
    "   # print(names)\n",
    "   \n",
    "    \n",
    "        \n"
   ]
  },
  {
   "cell_type": "code",
   "execution_count": null,
   "metadata": {},
   "outputs": [],
   "source": []
  }
 ],
 "metadata": {
  "kernelspec": {
   "display_name": "Python 3",
   "language": "python",
   "name": "python3"
  },
  "language_info": {
   "codemirror_mode": {
    "name": "ipython",
    "version": 3
   },
   "file_extension": ".py",
   "mimetype": "text/x-python",
   "name": "python",
   "nbconvert_exporter": "python",
   "pygments_lexer": "ipython3",
   "version": "3.6.4"
  }
 },
 "nbformat": 4,
 "nbformat_minor": 2
}
