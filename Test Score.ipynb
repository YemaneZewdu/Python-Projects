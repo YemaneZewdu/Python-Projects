{
 "cells": [
  {
   "cell_type": "code",
   "execution_count": null,
   "metadata": {},
   "outputs": [],
   "source": [
    "# Complete the winner function below.\n",
    "def winner(erica, bob):\n",
    "    score = {\"S\": [0,0,0], \"E\": [1,0,0], \"M\":[3,0,0], \"H\": [5,0,0]}\n",
    "    E,B = 0,0\n",
    "    for index, item in enumerate(erica):\n",
    "        E += score[item][0]\n",
    "        score[item][1] +=1\n",
    "        B += score[bob[index]][0]\n",
    "        score[bob[index]][2] +=1\n",
    "    if (E > B):\n",
    "        return \"Erica\"\n",
    "    elif (E < B):\n",
    "        return \"Bob\"\n",
    "    elif (E == B):\n",
    "        if score[\"H\"][1] > score[\"H\"][2]:\n",
    "            return \"Erica\"\n",
    "        elif score[\"H\"][1]< score[\"H\"][2]:\n",
    "            return \"Bob\"\n",
    "        elif score[\"M\"][1] > score[\"M\"][2]:\n",
    "            return \"Erica\"\n",
    "        elif score[\"M\"][1] < score[\"M\"][2]:\n",
    "            return \"Bob\"\n",
    "        elif score[\"E\"][1] > score[\"E\"][2]:\n",
    "            return \"Erica\"\n",
    "        elif score[\"E\"][1] < score[\"E\"][2]:\n",
    "            return \"Bob\"\n",
    "        else:\n",
    "            return \"Tie\"\n",
    "\n",
    "winner(\"EHH\", \"HHH\")"
   ]
  },
  {
   "cell_type": "code",
   "execution_count": null,
   "metadata": {},
   "outputs": [],
   "source": []
  }
 ],
 "metadata": {
  "kernelspec": {
   "display_name": "Python 3",
   "language": "python",
   "name": "python3"
  },
  "language_info": {
   "codemirror_mode": {
    "name": "ipython",
    "version": 3
   },
   "file_extension": ".py",
   "mimetype": "text/x-python",
   "name": "python",
   "nbconvert_exporter": "python",
   "pygments_lexer": "ipython3",
   "version": "3.6.4"
  }
 },
 "nbformat": 4,
 "nbformat_minor": 2
}
