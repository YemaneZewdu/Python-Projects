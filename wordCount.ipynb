{
 "cells": [
  {
   "cell_type": "code",
   "execution_count": 2,
   "metadata": {},
   "outputs": [
    {
     "name": "stdout",
     "output_type": "stream",
     "text": [
      "Enter a line of textthis is a simple python program\n",
      "this 1\n",
      "is 1\n",
      "a 1\n",
      "simple 1\n",
      "python 1\n",
      "program 1\n"
     ]
    }
   ],
   "source": [
    "#checks histograms\n",
    "counts = dict()\n",
    "line = input('Enter a line of text')\n",
    "\n",
    "words = line.split()\n",
    " \n",
    "for word in words:\n",
    "    counts[word] = counts.get(word,0) + 1\n",
    "#print('Counts', counts)\n",
    "for k,v in counts.items():\n",
    "    print(k,v)"
   ]
  },
  {
   "cell_type": "code",
   "execution_count": null,
   "metadata": {},
   "outputs": [],
   "source": []
  }
 ],
 "metadata": {
  "kernelspec": {
   "display_name": "Python 3",
   "language": "python",
   "name": "python3"
  },
  "language_info": {
   "codemirror_mode": {
    "name": "ipython",
    "version": 3
   },
   "file_extension": ".py",
   "mimetype": "text/x-python",
   "name": "python",
   "nbconvert_exporter": "python",
   "pygments_lexer": "ipython3",
   "version": "3.6.4"
  }
 },
 "nbformat": 4,
 "nbformat_minor": 2
}
